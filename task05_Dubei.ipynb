{
 "cells": [
  {
   "cell_type": "code",
   "execution_count": null,
   "metadata": {},
   "outputs": [],
   "source": [
    "import matplotlib.pyplot as plt\n",
    "import pandas as pd\n",
    "import seaborn as sns\n",
    "import folium\n",
    "from IPython.display import Image"
   ]
  },
  {
   "cell_type": "code",
   "execution_count": null,
   "metadata": {},
   "outputs": [],
   "source": [
    "csv_filename = \"population_trends.csv\"\n",
    "ukraine_filename = 'ukraine.json'\n",
    "pre_df = pd.read_csv(csv_filename)"
   ]
  },
  {
   "cell_type": "code",
   "execution_count": null,
   "metadata": {},
   "outputs": [],
   "source": [
    "df = pre_df.pivot(\n",
    "    index=\"region\",columns=\"year\",values=\"rate\").reset_index()\n",
    "inverse_df = pre_df.pivot(\n",
    "    index=\"year\",columns=\"region\",values=\"rate\").reset_index()"
   ]
  },
  {
   "cell_type": "code",
   "execution_count": null,
   "metadata": {
    "scrolled": false
   },
   "outputs": [],
   "source": [
    "ukraine_map = folium.Map(location=[49, 31], zoom_start=6)\n",
    "\n",
    "folium.Choropleth(\n",
    "    geo_data=ukraine_filename,\n",
    "    name=\"choropleth\",\n",
    "    data=df,\n",
    "    columns=['region', 2019],\n",
    "    key_on=\"feature.properties.NAME_1\",\n",
    "    fill_color=\"RdBu\",\n",
    "    fill_opacity=0.7,\n",
    "    line_opacity=0.2,\n",
    "    legend_name=\"2019 Ukraine Population Trends\",\n",
    ").add_to(ukraine_map)\n",
    "\n",
    "folium.LayerControl().add_to(ukraine_map)\n",
    "\n",
    "ukraine_map"
   ]
  },
  {
   "cell_type": "code",
   "execution_count": null,
   "metadata": {},
   "outputs": [],
   "source": [
    "sns.set(rc = {'figure.figsize':(20,11)}, font_scale=1.5)\n",
    "for state in pre_df[\"region\"]:\n",
    "    ax = sns.lineplot(x=inverse_df[\"year\"], y=inverse_df[state])\n",
    "ax.set(xlabel=\"Year\", ylabel=\"Rate\")"
   ]
  },
  {
   "cell_type": "code",
   "execution_count": null,
   "metadata": {},
   "outputs": [],
   "source": [
    "display(Image(filename='task05_1.png'))\n",
    "display(Image(filename='task05_2.png'))"
   ]
  }
 ],
 "metadata": {
  "kernelspec": {
   "display_name": "Python 3",
   "language": "python",
   "name": "python3"
  },
  "language_info": {
   "codemirror_mode": {
    "name": "ipython",
    "version": 3
   },
   "file_extension": ".py",
   "mimetype": "text/x-python",
   "name": "python",
   "nbconvert_exporter": "python",
   "pygments_lexer": "ipython3",
   "version": "3.7.3"
  }
 },
 "nbformat": 4,
 "nbformat_minor": 2
}
